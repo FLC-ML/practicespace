{
  "nbformat": 4,
  "nbformat_minor": 0,
  "metadata": {
    "colab": {
      "name": "Untitled",
      "provenance": [],
      "authorship_tag": "ABX9TyMVwaVodh9GUkDdPjlnmu6m",
      "include_colab_link": true
    },
    "kernelspec": {
      "name": "python3",
      "display_name": "Python 3"
    }
  },
  "cells": [
    {
      "cell_type": "markdown",
      "metadata": {
        "id": "view-in-github",
        "colab_type": "text"
      },
      "source": [
        "<a href=\"https://colab.research.google.com/github/FLC-ML/practicespace/blob/master/CreatingDataFrame_Beginner.ipynb\" target=\"_parent\"><img src=\"https://colab.research.google.com/assets/colab-badge.svg\" alt=\"Open In Colab\"/></a>"
      ]
    },
    {
      "cell_type": "markdown",
      "metadata": {
        "id": "_cL_NxAdZzdS",
        "colab_type": "text"
      },
      "source": [
        "## Task 1: Create a DataFrame\n",
        "\n",
        "Do the following:\n",
        "\n",
        "  1. Create an 3x4 (3 rows x 4 columns) pandas DataFrame in which the columns are named `Eleanor`,  `Chidi`, `Tahani`, and `Jason`.  Populate each of the 12 cells in the DataFrame with a random integer between 0 and 100, inclusive.\n",
        "\n",
        "  2. Output the following:\n",
        "\n",
        "     * the entire DataFrame\n",
        "     * the value in the cell of row #1 of the `Eleanor` column\n",
        "\n",
        "  3. Create a fifth column named `Janet`, which is populated with the row-by-row sums of `Tahani` and `Jason`.\n",
        "\n",
        "To complete this task, it helps to know the NumPy basics covered in the NumPy UltraQuick Tutorial. \n"
      ]
    },
    {
      "cell_type": "code",
      "metadata": {
        "id": "_gB6VP8nMkiA",
        "colab_type": "code",
        "colab": {
          "base_uri": "https://localhost:8080/",
          "height": 199
        },
        "outputId": "28864ca5-425a-4106-88fe-91b5b067b8a7"
      },
      "source": [
        "import numpy as np\n",
        "import pandas as pd\n",
        "my_data = np.random.randint(low=0, high=101, size=[3,4])\n",
        "column_names = ['Eleanor', 'Chidi', 'Tahani', 'Jason']\n",
        "dataframe = pd.DataFrame(data=my_data, columns=column_names)\n",
        "print(dataframe)\n",
        "print(\"Eleanor Row #1 Value:\")\n",
        "print(dataframe['Eleanor'][1])\n",
        "dataframe['Janet'] = dataframe['Tahani']+dataframe['Jason']\n",
        "print(dataframe)"
      ],
      "execution_count": null,
      "outputs": [
        {
          "output_type": "stream",
          "text": [
            "   Eleanor  Chidi  Tahani  Jason\n",
            "0       86     99      96      0\n",
            "1       96     71      18     29\n",
            "2       52     18      31      5\n",
            "Eleanor Row #1 Value:\n",
            "96\n",
            "   Eleanor  Chidi  Tahani  Jason  Janet\n",
            "0       86     99      96      0     96\n",
            "1       96     71      18     29     47\n",
            "2       52     18      31      5     36\n"
          ],
          "name": "stdout"
        }
      ]
    }
  ]
}