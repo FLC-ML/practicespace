{
  "nbformat": 4,
  "nbformat_minor": 0,
  "metadata": {
    "colab": {
      "name": "Colab_introduction.ipynb",
      "provenance": [],
      "authorship_tag": "ABX9TyPe/KNDE3F5LrlLB3CWMDc8",
      "include_colab_link": true
    },
    "kernelspec": {
      "name": "python3",
      "display_name": "Python 3"
    }
  },
  "cells": [
    {
      "cell_type": "markdown",
      "metadata": {
        "id": "view-in-github",
        "colab_type": "text"
      },
      "source": [
        "<a href=\"https://colab.research.google.com/github/FLC-ML/practicespace/blob/swimmer-practice-1/Colab_introduction.ipynb\" target=\"_parent\"><img src=\"https://colab.research.google.com/assets/colab-badge.svg\" alt=\"Open In Colab\"/></a>"
      ]
    },
    {
      "cell_type": "markdown",
      "metadata": {
        "id": "NjOfMyWOJf9Z",
        "colab_type": "text"
      },
      "source": [
        "# Google Colab Introduction\n",
        "\n",
        "This notebook will go over some Google Colab functions in order to load data and analyze. Numpy, Pandas, and matplotlib libraries will be used. If you are unfamiliar with these libraries be sure to look up the documentation for functions you are unsure about."
      ]
    },
    {
      "cell_type": "markdown",
      "metadata": {
        "id": "Ei0sD9F_K97x",
        "colab_type": "text"
      },
      "source": [
        "- Google Colab is a Jupyter Notebook with Google Drive integration.\n",
        "- Add a block of code or text using the +Code or +Text buttons.\n",
        "- Text blocks use Markdown language for formatting."
      ]
    },
    {
      "cell_type": "markdown",
      "metadata": {
        "id": "utV17oC2J9DC",
        "colab_type": "text"
      },
      "source": [
        "# Loading Data\n",
        "\n",
        "Loading files can be done in a variety of ways. The easiest being to upload directly from a URL using !wget. Functions with a \"!\" are standard terminal functions."
      ]
    },
    {
      "cell_type": "code",
      "metadata": {
        "id": "SVQccn_fJeZG",
        "colab_type": "code",
        "colab": {}
      },
      "source": [
        "# Loading Stanford directory data using !wget\n",
        "\n",
        "# Training Data\n",
        "!wget https://www.dropbox.com/sh/gmgduvzyl5tken6/AAD6E17hrD8CfKwmRB9wfTKqa/X_reference.npy\n",
        "!wget https://www.dropbox.com/sh/gmgduvzyl5tken6/AACaXFPq1qA5kLvhIF0Y0NfEa/y_reference.npy\n",
        "\n",
        "# Testing Data\n",
        "!wget https://www.dropbox.com/sh/gmgduvzyl5tken6/AABKsseO9QvObI4lTt-yXg8ta/X_test.npy\n",
        "!wget https://www.dropbox.com/sh/gmgduvzyl5tken6/AACitgFQG5cfd7qs--swRbI0a/y_test.npy"
      ],
      "execution_count": null,
      "outputs": []
    },
    {
      "cell_type": "markdown",
      "metadata": {
        "id": "D5hI-JG8Ky6q",
        "colab_type": "text"
      },
      "source": [
        "Use !ls to see your files in your current directory."
      ]
    },
    {
      "cell_type": "code",
      "metadata": {
        "id": "htMZuM2vK8bg",
        "colab_type": "code",
        "colab": {}
      },
      "source": [
        "!ls"
      ],
      "execution_count": null,
      "outputs": []
    },
    {
      "cell_type": "markdown",
      "metadata": {
        "id": "xHYY7kRDMaxk",
        "colab_type": "text"
      },
      "source": [
        "You can also upload the file yourself. Here is an example:"
      ]
    },
    {
      "cell_type": "code",
      "metadata": {
        "id": "8p9Lc69lMd_i",
        "colab_type": "code",
        "colab": {}
      },
      "source": [
        "# Creates an upload button within the notebook to load files.\n",
        "from google.colab import files\n",
        "uploaded = files.upload()"
      ],
      "execution_count": null,
      "outputs": []
    },
    {
      "cell_type": "markdown",
      "metadata": {
        "id": "yhRleiw2MvU8",
        "colab_type": "text"
      },
      "source": [
        "Next method would be to upload the file to google drive, and access it from a google drive folder."
      ]
    },
    {
      "cell_type": "code",
      "metadata": {
        "id": "5wULT882M9cG",
        "colab_type": "code",
        "colab": {}
      },
      "source": [
        "# Access files from your Google Drive\n",
        "from google.colab import drive\n",
        "drive.mount('/content/gdrive')"
      ],
      "execution_count": null,
      "outputs": []
    },
    {
      "cell_type": "code",
      "metadata": {
        "id": "3c-UXepmNBeX",
        "colab_type": "code",
        "colab": {}
      },
      "source": [
        "# Check current directory - now gdrive is there\n",
        "!ls"
      ],
      "execution_count": null,
      "outputs": []
    },
    {
      "cell_type": "code",
      "metadata": {
        "id": "haEeDPyoNEzh",
        "colab_type": "code",
        "colab": {}
      },
      "source": [
        "# What's in gdrive?\n",
        "!ls gdrive"
      ],
      "execution_count": null,
      "outputs": []
    },
    {
      "cell_type": "code",
      "metadata": {
        "id": "9_oMegd3NHfq",
        "colab_type": "code",
        "colab": {}
      },
      "source": [
        "# See your google drive files available.\n",
        "!ls /content/gdrive/'My Drive/'"
      ],
      "execution_count": null,
      "outputs": []
    },
    {
      "cell_type": "code",
      "metadata": {
        "id": "6PpoGilmNpcw",
        "colab_type": "code",
        "colab": {}
      },
      "source": [
        "# Moving into directory \n",
        "% cd /content/gdrive/'My Drive/'"
      ],
      "execution_count": null,
      "outputs": []
    },
    {
      "cell_type": "code",
      "metadata": {
        "id": "SNnCQNaENxtd",
        "colab_type": "code",
        "colab": {}
      },
      "source": [
        "# Check your current working directory\n",
        "!pwd # I think this stands for 'print working directory'."
      ],
      "execution_count": null,
      "outputs": []
    }
  ]
}