{
  "nbformat": 4,
  "nbformat_minor": 0,
  "metadata": {
    "colab": {
      "name": "Time_Series_classification.ipynb",
      "provenance": [],

      "include_colab_link": true
    },
    "kernelspec": {
      "name": "python3",
      "display_name": "Python 3"
    },
    "accelerator": "GPU"
  },
  "cells": [
    {
      "cell_type": "markdown",
      "metadata": {
        "id": "view-in-github",
        "colab_type": "text"
      },
      "source": [
        "<a href=\"https://colab.research.google.com/github/FLC-ML/practicespace/blob/swimmer-practice-1/Time_Series_classification.ipynb\" target=\"_parent\"><img src=\"https://colab.research.google.com/assets/colab-badge.svg\" alt=\"Open In Colab\"/></a>"
      ]
    },
    {
      "cell_type": "markdown",
      "metadata": {
        "id": "zFRzq9PBCSY1",
        "colab_type": "text"
      },
      "source": [
        "# RNN/LSTM Time Series Classification.\n",
        "\n",
        "Proof of concept."
      ]
    },
    {
      "cell_type": "markdown",
      "metadata": {
        "id": "Vtn240RDFCaz",
        "colab_type": "text"
      },
      "source": [
        "# Load Data"
      ]
    },
    {
      "cell_type": "code",
      "metadata": {
        "id": "iPXg9OHZFnrw",
        "colab_type": "code",
        "colab": {
          "base_uri": "https://localhost:8080/",
          "height": 1000
        },

      },
      "source": [
        "# Training Data\n",
        "!wget https://www.dropbox.com/sh/gmgduvzyl5tken6/AAD6E17hrD8CfKwmRB9wfTKqa/X_reference.npy\n",
        "!wget https://www.dropbox.com/sh/gmgduvzyl5tken6/AACaXFPq1qA5kLvhIF0Y0NfEa/y_reference.npy\n",
        "# Testing Data\n",
        "!wget https://www.dropbox.com/sh/gmgduvzyl5tken6/AABKsseO9QvObI4lTt-yXg8ta/X_test.npy\n",
        "!wget https://www.dropbox.com/sh/gmgduvzyl5tken6/AACitgFQG5cfd7qs--swRbI0a/y_test.npy"
      ],
      "execution_count": 1,
      "outputs": [
        {
          "output_type": "stream",
          "text": [

            "HTTP request sent, awaiting response... 200 OK\n",
            "Length: 480000128 (458M) [application/octet-stream]\n",
            "Saving to: ‘X_reference.npy’\n",
            "\n",

            "HTTP request sent, awaiting response... 200 OK\n",
            "Length: 480128 (469K) [text/plain]\n",
            "Saving to: ‘y_reference.npy’\n",
            "\n",

            "HTTP request sent, awaiting response... 200 OK\n",
            "Length: 24000128 (23M) [application/octet-stream]\n",
            "Saving to: ‘X_test.npy’\n",
            "\n",

            "HTTP request sent, awaiting response... 200 OK\n",
            "Length: 24128 (24K) [text/plain]\n",
            "Saving to: ‘y_test.npy’\n",
            "\n",

            "\n"
          ],
          "name": "stdout"
        }
      ]
    },
    {
      "cell_type": "code",
      "metadata": {
        "id": "gMv0nkhQCRZ2",
        "colab_type": "code",
        "colab": {}
      },
      "source": [
        "# Importing libraries\n",
        "import tensorflow as tf\n",

        "from tensorflow.keras.models import Model\n",
        "from tensorflow.keras.optimizers import SGD, Adam\n",
        "\n",
        "from sklearn.metrics import confusion_matrix\n",
        "import itertools\n",
        "\n",
        "import numpy as np\n",
        "import matplotlib.pyplot as plt # Use pip install to get this outside of notebook\n",
        "from matplotlib import cm\n",
        "import pandas as pd"
      ],
      "execution_count": 14,
      "outputs": []
    },
    {
      "cell_type": "code",
      "metadata": {
        "id": "wqwP5lYjFzx8",
        "colab_type": "code",
        "colab": {
          "base_uri": "https://localhost:8080/",
          "height": 34
        },

      },
      "source": [
        "# If you want to check directory.\n",
        "!ls"
      ],
      "execution_count": 3,
      "outputs": [
        {
          "output_type": "stream",
          "text": [
            "sample_data  X_reference.npy  X_test.npy  y_reference.npy  y_test.npy\n"
          ],
          "name": "stdout"
        }
      ]
    },
    {
      "cell_type": "code",
      "metadata": {
        "id": "rNw-xJZFCh77",
        "colab_type": "code",
        "colab": {
          "base_uri": "https://localhost:8080/",
          "height": 979
        },

      },
      "source": [
        "### Load the data:\n",
        "\n",

        "X_train_loc = 'X_reference.npy'\n",
        "y_train_loc = 'y_reference.npy'\n",
        "X_train = np.load(X_train_loc)\n",
        "y_train = np.load(y_train_loc)\n",
        "\n",
        "# Testing data\n",
        "X_test_loc = 'X_test.npy'\n",
        "y_test_loc = 'y_test.npy'\n",
        "X_test = np.load(X_test_loc)\n",
        "y_test = np.load(y_test_loc)\n",
        "\n",

        "# Print shape of data loaded.\n",
        "print(\"training set shape:\", X_train.shape, y_train.shape)\n",
        "print(\"test set shape:\", X_test.shape, y_test.shape)\n",
        "\n",

        "plt.plot(X_train[19000])\n",
        "plt.plot(X_train[19005])"
      ],
      "execution_count": 48,
      "outputs": [
        {
          "output_type": "stream",
          "text": [
            "\n",
            "new x_train shape: (60000, 1000, 1)\n",
            "new x_test shape: (3000, 1000, 1)\n",
            "\n",
            "X_data index shape: (1000, 1)\n",

            "(array([   0,    1,    2, ..., 1997, 1998, 1999]),)\n",
            "(array([2000, 2001, 2002, ..., 3997, 3998, 3999]),)\n"
          ],
          "name": "stdout"
        },
        {
          "output_type": "execute_result",
          "data": {
            "text/plain": [

            ]
          },
          "metadata": {
            "tags": []
          },

        },
        {
          "output_type": "display_data",
          "data": {

            "text/plain": [
              "<Figure size 432x288 with 1 Axes>"
            ]
          },
          "metadata": {
            "tags": [],
            "needs_background": "light"
          }
        },
        {
          "output_type": "display_data",
          "data": {

            "text/plain": [
              "<Figure size 432x288 with 1 Axes>"
            ]
          },
          "metadata": {
            "tags": [],
            "needs_background": "light"
          }
        },
        {
          "output_type": "display_data",
          "data": {

            "text/plain": [
              "<Figure size 432x288 with 1 Axes>"
            ]
          },
          "metadata": {
            "tags": [],
            "needs_background": "light"
          }
        }
      ]
    },
    {
      "cell_type": "markdown",
      "metadata": {
        "id": "xVIiQFv-J4pI",
        "colab_type": "text"
      },
      "source": [

      ]
    },
    {
      "cell_type": "code",
      "metadata": {
        "id": "cXF9_Zx_CnTL",
        "colab_type": "code",
        "colab": {
          "base_uri": "https://localhost:8080/",
          "height": 391
        },

        "x = Dense(30, activation='softmax')(x)\n",
        "\n",
        "model = Model(i, x)\n",
        "model.summary()"
      ],

      "outputs": [
        {
          "output_type": "stream",
          "text": [

            "Non-trainable params: 0\n",
            "_________________________________________________________________\n"
          ],
          "name": "stdout"
        }
      ]
    },
    {
      "cell_type": "code",
      "metadata": {
        "id": "iaHOqFAGCu_j",
        "colab_type": "code",
        "colab": {
          "base_uri": "https://localhost:8080/",

      },
      "source": [
        "### Compile and train\n",
        "from time import time\n",
        "start = time()\n",
        "model.compile(optimizer='adam',\n",
        "              loss='sparse_categorical_crossentropy',\n",
        "              metrics=['accuracy'])\n",

      "outputs": [
        {
          "output_type": "stream",
          "text": [

          ],
          "name": "stdout"
        }
      ]
    },
    {
      "cell_type": "code",
      "metadata": {
        "id": "sZWsjTemCx7r",
        "colab_type": "code",
        "colab": {
          "base_uri": "https://localhost:8080/",
          "height": 296
        },

      },
      "source": [
        "### Plot loss per iteration\n",
        "plt.plot(r.history['loss'], label='loss')\n",
        "plt.plot(r.history['val_loss'], label='val_loss')\n",
        "plt.legend()"
      ],

      "outputs": [
        {
          "output_type": "execute_result",
          "data": {
            "text/plain": [

            ]
          },
          "metadata": {
            "tags": []
          },

        },
        {
          "output_type": "display_data",
          "data": {

            "text/plain": [
              "<Figure size 432x288 with 1 Axes>"
            ]
          },
          "metadata": {
            "tags": [],
            "needs_background": "light"
          }
        }
      ]
    },
    {
      "cell_type": "code",
      "metadata": {
        "id": "uboMk0ZWC1Fr",
        "colab_type": "code",
        "colab": {
          "base_uri": "https://localhost:8080/",
          "height": 296
        },

      },
      "source": [
        "### Plot accuracy per iteration\n",
        "plt.plot(r.history['accuracy'], label='acc')\n",
        "plt.plot(r.history['val_accuracy'], label='val_acc')\n",
        "plt.legend()"
      ],

      "outputs": [
        {
          "output_type": "execute_result",
          "data": {
            "text/plain": [

            ]
          },
          "metadata": {
            "tags": []
          },

        },
        {
          "output_type": "display_data",
          "data": {

            "text/plain": [
              "<Figure size 432x288 with 1 Axes>"
            ]
          },
          "metadata": {
            "tags": [],
            "needs_background": "light"
          }
        }
      ]
    },
    {
      "cell_type": "code",
      "metadata": {
        "id": "VFxONBWnVdB0",
        "colab_type": "code",
        "colab": {}
      },
      "source": [
        "import seaborn as sns\n",
        "from sklearn.metrics import confusion_matrix\n"
      ],
      "execution_count": 40,
      "outputs": []
    },
    {
      "cell_type": "code",
      "metadata": {
        "id": "IQlXodFqV0c2",
        "colab_type": "code",
        "colab": {}
      },
      "source": [
        "# 30 reference isolates\n",
        "ORDER = [16, 17, 14, 18, 15, 20, 21, 24, 23, 26, 27, 28, 29, 25, 6, 7, 5, 3, 4,\n",
        "         9, 10, 2, 8, 11, 22, 19, 12, 13, 0, 1]\n",
        "\n",
        "STRAINS = {}\n",
        "STRAINS[0] = \"C. albicans\"\n",
        "STRAINS[1] = \"C. glabrata\"\n",
        "STRAINS[2] = \"K. aerogenes\"\n",
        "STRAINS[3] = \"E. coli 1\"\n",
        "STRAINS[4] = \"E. coli 2\"\n",
        "STRAINS[5] = \"E. faecium\"\n",
        "STRAINS[6] = \"E. faecalis 1\"\n",
        "STRAINS[7] = \"E. faecalis 2\"\n",
        "STRAINS[8] = \"E. cloacae\"\n",
        "STRAINS[9] = \"K. pneumoniae 1\"\n",
        "STRAINS[10] = \"K. pneumoniae 2\"\n",
        "STRAINS[11] = \"P. mirabilis\"\n",
        "STRAINS[12] = \"P. aeruginosa 1\"\n",
        "STRAINS[13] = \"P. aeruginosa 2\"\n",
        "STRAINS[14] = \"MSSA 1\"\n",
        "STRAINS[15] = \"MSSA 3\"\n",
        "STRAINS[16] = \"MRSA 1 (isogenic)\"\n",
        "STRAINS[17] = \"MRSA 2\"\n",
        "STRAINS[18] = \"MSSA 2\"\n",
        "STRAINS[19] = \"S. enterica\"\n",
        "STRAINS[20] = \"S. epidermidis\"\n",
        "STRAINS[21] = \"S. lugdunensis\"\n",
        "STRAINS[22] = \"S. marcescens\"\n",
        "STRAINS[23] = \"S. pneumoniae 2\"\n",
        "STRAINS[24] = \"S. pneumoniae 1\"\n",
        "STRAINS[25] = \"S. sanguinis\"\n",
        "STRAINS[26] = \"Group A Strep.\"\n",
        "STRAINS[27] = \"Group B Strep.\"\n",
        "STRAINS[28] = \"Group C Strep.\"\n",
        "STRAINS[29] = \"Group G Strep.\""
      ],
      "execution_count": 10,
      "outputs": []
    },
    {
      "cell_type": "code",
      "metadata": {
        "id": "aBRFbFVSVuai",
        "colab_type": "code",
        "colab": {
          "base_uri": "https://localhost:8080/",
          "height": 856
        },

      },
      "source": [
        "# Plot confusion matrix\n",
        "p_test = model.predict(X_test).argmax(axis=1)\n",

        "\n",
        "sns.set_context(\"talk\", rc={\"font\":\"Helvetica\", \"font.size\":12})\n",
        "label = [STRAINS[i] for i in ORDER]\n",
        "cm = confusion_matrix(y_test, p_test, labels=ORDER)\n",
        "plt.figure(figsize=(15, 12))\n",
        "cm = 100 * cm / cm.sum(axis=1)[:,np.newaxis]\n",
        "ax = sns.heatmap(cm, annot=True, cmap='YlGnBu', fmt='0.0f',\n",
        "                 xticklabels=label, yticklabels=label)\n",
        "ax.xaxis.tick_top()\n",
        "plt.xticks(rotation=90) \n",
        "plt.show()"
      ],

            "text/plain": [
              "<Figure size 1080x864 with 2 Axes>"
            ]
          },
          "metadata": {
            "tags": [],
            "needs_background": "light"
          }
        }
      ]
    },
    {
      "cell_type": "code",
      "metadata": {
        "id": "srAZF4tB8ZMw",
        "colab_type": "code",
        "colab": {}
      },
      "source": [
        "# Label mapping\n",
        "labels = '''C_albicans\n",
        "C_glabrata\n",
        "K_aerogenes\n",
        "E_coli_1\n",
        "E_coli_2\n",
        "E_faecium\n",
        "E_faecalis_1\n",
        "E_faecalis_2\n",
        "E_cloacae\n",
        "K_pneumoniae_1\n",
        "K_pneumoniae_2\n",
        "P_mirabilis\n",
        "P_aeruginosa_1\n",
        "P_aeruginosa_2\n",
        "MSSA_1\n",
        "MSSA_3\n",
        "MRSA_1\n",
        "MRSA_2\n",
        "MSSA_2\n",
        "S_enterica\n",
        "S_epidermidis\n",
        "S_lugdenensis\n",
        "S_marcescens\n",
        "S_pneumoniae_2\n",
        "S_pneumoniae_1\n",
        "S_sanguinis\n",
        "Group_A_Strep.\n",
        "Group_B_Strep\n",
        "Group_C_Strep\n",
        "Group_G_Strep'''.split()"
      ],
      "execution_count": 42,
      "outputs": []
    },
    {
      "cell_type": "code",
      "metadata": {
        "id": "9KLaD3iz7j_L",
        "colab_type": "code",
        "colab": {
          "base_uri": "https://localhost:8080/",
          "height": 333
        },
        "outputId": "a7b798b3-0553-4135-f513-dc566b7794e1"
      },
      "source": [
        "# Show some misclassified examples\n",
        "misclassified_idx = np.where(p_test != y_test)[0]\n",
        "i = np.random.choice(misclassified_idx)\n",
        "print('Total misclassifications:', len(misclassified_idx))\n",
        "print('Index of misclassified example:',i)\n",
        "#print(type(i))\n",
        "# Changing float64 to int64\n",
        "new_i = i.astype(int)\n",
        "y_testnew = y_test.astype(int)\n",
        "p_testnew = p_test.astype(int)\n",
        "#print(type(new_i))\n",
        "plt.plot(X_test[new_i])\n",
        "plt.title(\"True label: %s Predicted label: %s\" % (labels[y_testnew[new_i]], labels[p_testnew[new_i]]));"
      ],
      "execution_count": 43,
      "outputs": [
        {
          "output_type": "stream",
          "text": [
            "Total misclassifications: 1353\n",
            "Index of misclassified example: 133\n"
          ],
          "name": "stdout"
        },
        {
          "output_type": "display_data",
          "data": {
            "image/png": "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\n",
            "text/plain": [
              "<Figure size 432x288 with 1 Axes>"
            ]
          },
          "metadata": {

            "tags": [],
            "needs_background": "light"
          }
        }
      ]
    }
  ]
}